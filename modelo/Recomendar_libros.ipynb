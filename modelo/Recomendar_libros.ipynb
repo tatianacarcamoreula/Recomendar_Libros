{
 "cells": [
  {
   "cell_type": "markdown",
   "metadata": {},
   "source": [
    "## Importar librerías"
   ]
  },
  {
   "cell_type": "code",
   "execution_count": 1,
   "metadata": {},
   "outputs": [
    {
     "name": "stderr",
     "output_type": "stream",
     "text": [
      "[nltk_data] Downloading package stopwords to C:\\Users\\CONECTIA\n",
      "[nltk_data]     BA\\AppData\\Roaming\\nltk_data...\n",
      "[nltk_data]   Package stopwords is already up-to-date!\n",
      "[nltk_data] Downloading package wordnet to C:\\Users\\CONECTIA\n",
      "[nltk_data]     BA\\AppData\\Roaming\\nltk_data...\n",
      "[nltk_data]   Package wordnet is already up-to-date!\n"
     ]
    }
   ],
   "source": [
    "import pandas as pd\n",
    "import numpy as np\n",
    "from sklearn.feature_extraction.text import TfidfVectorizer\n",
    "from sklearn.metrics.pairwise import cosine_similarity, euclidean_distances\n",
    "import nltk\n",
    "nltk.download('stopwords')\n",
    "nltk.download('wordnet')\n",
    "from nltk.corpus import stopwords\n",
    "from nltk.tokenize import RegexpTokenizer #para tokenizar\n",
    "from nltk.stem.snowball import SnowballStemmer #para stemmatizar\n",
    "import joblib"
   ]
  },
  {
   "cell_type": "markdown",
   "metadata": {},
   "source": [
    "## Extraer datos"
   ]
  },
  {
   "cell_type": "code",
   "execution_count": 2,
   "metadata": {},
   "outputs": [
    {
     "data": {
      "text/html": [
       "<div>\n",
       "<style scoped>\n",
       "    .dataframe tbody tr th:only-of-type {\n",
       "        vertical-align: middle;\n",
       "    }\n",
       "\n",
       "    .dataframe tbody tr th {\n",
       "        vertical-align: top;\n",
       "    }\n",
       "\n",
       "    .dataframe thead th {\n",
       "        text-align: right;\n",
       "    }\n",
       "</style>\n",
       "<table border=\"1\" class=\"dataframe\">\n",
       "  <thead>\n",
       "    <tr style=\"text-align: right;\">\n",
       "      <th></th>\n",
       "      <th>isbn13</th>\n",
       "      <th>isbn10</th>\n",
       "      <th>title</th>\n",
       "      <th>subtitle</th>\n",
       "      <th>authors</th>\n",
       "      <th>categories</th>\n",
       "      <th>thumbnail</th>\n",
       "      <th>description</th>\n",
       "      <th>published_year</th>\n",
       "      <th>average_rating</th>\n",
       "      <th>num_pages</th>\n",
       "      <th>ratings_count</th>\n",
       "    </tr>\n",
       "  </thead>\n",
       "  <tbody>\n",
       "    <tr>\n",
       "      <th>0</th>\n",
       "      <td>9780002005883</td>\n",
       "      <td>0002005883</td>\n",
       "      <td>Gilead</td>\n",
       "      <td>NaN</td>\n",
       "      <td>Marilynne Robinson</td>\n",
       "      <td>Fiction</td>\n",
       "      <td>http://books.google.com/books/content?id=KQZCP...</td>\n",
       "      <td>A NOVEL THAT READERS and critics have been eag...</td>\n",
       "      <td>2004.0</td>\n",
       "      <td>3.85</td>\n",
       "      <td>247.0</td>\n",
       "      <td>361.0</td>\n",
       "    </tr>\n",
       "    <tr>\n",
       "      <th>1</th>\n",
       "      <td>9780002261982</td>\n",
       "      <td>0002261987</td>\n",
       "      <td>Spider's Web</td>\n",
       "      <td>A Novel</td>\n",
       "      <td>Charles Osborne;Agatha Christie</td>\n",
       "      <td>Detective and mystery stories</td>\n",
       "      <td>http://books.google.com/books/content?id=gA5GP...</td>\n",
       "      <td>A new 'Christie for Christmas' -- a full-lengt...</td>\n",
       "      <td>2000.0</td>\n",
       "      <td>3.83</td>\n",
       "      <td>241.0</td>\n",
       "      <td>5164.0</td>\n",
       "    </tr>\n",
       "    <tr>\n",
       "      <th>2</th>\n",
       "      <td>9780006163831</td>\n",
       "      <td>0006163831</td>\n",
       "      <td>The One Tree</td>\n",
       "      <td>NaN</td>\n",
       "      <td>Stephen R. Donaldson</td>\n",
       "      <td>American fiction</td>\n",
       "      <td>http://books.google.com/books/content?id=OmQaw...</td>\n",
       "      <td>Volume Two of Stephen Donaldson's acclaimed se...</td>\n",
       "      <td>1982.0</td>\n",
       "      <td>3.97</td>\n",
       "      <td>479.0</td>\n",
       "      <td>172.0</td>\n",
       "    </tr>\n",
       "    <tr>\n",
       "      <th>3</th>\n",
       "      <td>9780006178736</td>\n",
       "      <td>0006178731</td>\n",
       "      <td>Rage of angels</td>\n",
       "      <td>NaN</td>\n",
       "      <td>Sidney Sheldon</td>\n",
       "      <td>Fiction</td>\n",
       "      <td>http://books.google.com/books/content?id=FKo2T...</td>\n",
       "      <td>A memorable, mesmerizing heroine Jennifer -- b...</td>\n",
       "      <td>1993.0</td>\n",
       "      <td>3.93</td>\n",
       "      <td>512.0</td>\n",
       "      <td>29532.0</td>\n",
       "    </tr>\n",
       "    <tr>\n",
       "      <th>4</th>\n",
       "      <td>9780006280897</td>\n",
       "      <td>0006280897</td>\n",
       "      <td>The Four Loves</td>\n",
       "      <td>NaN</td>\n",
       "      <td>Clive Staples Lewis</td>\n",
       "      <td>Christian life</td>\n",
       "      <td>http://books.google.com/books/content?id=XhQ5X...</td>\n",
       "      <td>Lewis' work on the nature of love divides love...</td>\n",
       "      <td>2002.0</td>\n",
       "      <td>4.15</td>\n",
       "      <td>170.0</td>\n",
       "      <td>33684.0</td>\n",
       "    </tr>\n",
       "  </tbody>\n",
       "</table>\n",
       "</div>"
      ],
      "text/plain": [
       "          isbn13      isbn10           title subtitle  \\\n",
       "0  9780002005883  0002005883          Gilead      NaN   \n",
       "1  9780002261982  0002261987    Spider's Web  A Novel   \n",
       "2  9780006163831  0006163831    The One Tree      NaN   \n",
       "3  9780006178736  0006178731  Rage of angels      NaN   \n",
       "4  9780006280897  0006280897  The Four Loves      NaN   \n",
       "\n",
       "                           authors                     categories  \\\n",
       "0               Marilynne Robinson                        Fiction   \n",
       "1  Charles Osborne;Agatha Christie  Detective and mystery stories   \n",
       "2             Stephen R. Donaldson               American fiction   \n",
       "3                   Sidney Sheldon                        Fiction   \n",
       "4              Clive Staples Lewis                 Christian life   \n",
       "\n",
       "                                           thumbnail  \\\n",
       "0  http://books.google.com/books/content?id=KQZCP...   \n",
       "1  http://books.google.com/books/content?id=gA5GP...   \n",
       "2  http://books.google.com/books/content?id=OmQaw...   \n",
       "3  http://books.google.com/books/content?id=FKo2T...   \n",
       "4  http://books.google.com/books/content?id=XhQ5X...   \n",
       "\n",
       "                                         description  published_year  \\\n",
       "0  A NOVEL THAT READERS and critics have been eag...          2004.0   \n",
       "1  A new 'Christie for Christmas' -- a full-lengt...          2000.0   \n",
       "2  Volume Two of Stephen Donaldson's acclaimed se...          1982.0   \n",
       "3  A memorable, mesmerizing heroine Jennifer -- b...          1993.0   \n",
       "4  Lewis' work on the nature of love divides love...          2002.0   \n",
       "\n",
       "   average_rating  num_pages  ratings_count  \n",
       "0            3.85      247.0          361.0  \n",
       "1            3.83      241.0         5164.0  \n",
       "2            3.97      479.0          172.0  \n",
       "3            3.93      512.0        29532.0  \n",
       "4            4.15      170.0        33684.0  "
      ]
     },
     "execution_count": 2,
     "metadata": {},
     "output_type": "execute_result"
    }
   ],
   "source": [
    "df = pd.read_csv('data.csv')\n",
    "df.head()"
   ]
  },
  {
   "cell_type": "markdown",
   "metadata": {},
   "source": [
    "## Explorar datos"
   ]
  },
  {
   "cell_type": "code",
   "execution_count": 3,
   "metadata": {},
   "outputs": [
    {
     "data": {
      "text/plain": [
       "(6810, 12)"
      ]
     },
     "execution_count": 3,
     "metadata": {},
     "output_type": "execute_result"
    }
   ],
   "source": [
    "df.shape"
   ]
  },
  {
   "cell_type": "code",
   "execution_count": 4,
   "metadata": {},
   "outputs": [
    {
     "data": {
      "text/plain": [
       "isbn13               0\n",
       "isbn10               0\n",
       "title                0\n",
       "subtitle          4429\n",
       "authors             72\n",
       "categories          99\n",
       "thumbnail          329\n",
       "description        262\n",
       "published_year       6\n",
       "average_rating      43\n",
       "num_pages           43\n",
       "ratings_count       43\n",
       "dtype: int64"
      ]
     },
     "execution_count": 4,
     "metadata": {},
     "output_type": "execute_result"
    }
   ],
   "source": [
    "df.isna().sum()"
   ]
  },
  {
   "cell_type": "code",
   "execution_count": 5,
   "metadata": {},
   "outputs": [
    {
     "name": "stdout",
     "output_type": "stream",
     "text": [
      "<class 'pandas.core.frame.DataFrame'>\n",
      "RangeIndex: 6810 entries, 0 to 6809\n",
      "Data columns (total 12 columns):\n",
      " #   Column          Non-Null Count  Dtype  \n",
      "---  ------          --------------  -----  \n",
      " 0   isbn13          6810 non-null   int64  \n",
      " 1   isbn10          6810 non-null   object \n",
      " 2   title           6810 non-null   object \n",
      " 3   subtitle        2381 non-null   object \n",
      " 4   authors         6738 non-null   object \n",
      " 5   categories      6711 non-null   object \n",
      " 6   thumbnail       6481 non-null   object \n",
      " 7   description     6548 non-null   object \n",
      " 8   published_year  6804 non-null   float64\n",
      " 9   average_rating  6767 non-null   float64\n",
      " 10  num_pages       6767 non-null   float64\n",
      " 11  ratings_count   6767 non-null   float64\n",
      "dtypes: float64(4), int64(1), object(7)\n",
      "memory usage: 638.6+ KB\n"
     ]
    }
   ],
   "source": [
    "df.info()"
   ]
  },
  {
   "cell_type": "markdown",
   "metadata": {},
   "source": [
    "## Procesar datos"
   ]
  },
  {
   "cell_type": "code",
   "execution_count": 6,
   "metadata": {},
   "outputs": [
    {
     "data": {
      "text/html": [
       "<div>\n",
       "<style scoped>\n",
       "    .dataframe tbody tr th:only-of-type {\n",
       "        vertical-align: middle;\n",
       "    }\n",
       "\n",
       "    .dataframe tbody tr th {\n",
       "        vertical-align: top;\n",
       "    }\n",
       "\n",
       "    .dataframe thead th {\n",
       "        text-align: right;\n",
       "    }\n",
       "</style>\n",
       "<table border=\"1\" class=\"dataframe\">\n",
       "  <thead>\n",
       "    <tr style=\"text-align: right;\">\n",
       "      <th></th>\n",
       "      <th>title</th>\n",
       "      <th>authors</th>\n",
       "      <th>categories</th>\n",
       "      <th>description</th>\n",
       "    </tr>\n",
       "  </thead>\n",
       "  <tbody>\n",
       "    <tr>\n",
       "      <th>0</th>\n",
       "      <td>Gilead</td>\n",
       "      <td>Marilynne Robinson</td>\n",
       "      <td>Fiction</td>\n",
       "      <td>A NOVEL THAT READERS and critics have been eag...</td>\n",
       "    </tr>\n",
       "    <tr>\n",
       "      <th>1</th>\n",
       "      <td>Spider's Web</td>\n",
       "      <td>Charles Osborne;Agatha Christie</td>\n",
       "      <td>Detective and mystery stories</td>\n",
       "      <td>A new 'Christie for Christmas' -- a full-lengt...</td>\n",
       "    </tr>\n",
       "    <tr>\n",
       "      <th>2</th>\n",
       "      <td>The One Tree</td>\n",
       "      <td>Stephen R. Donaldson</td>\n",
       "      <td>American fiction</td>\n",
       "      <td>Volume Two of Stephen Donaldson's acclaimed se...</td>\n",
       "    </tr>\n",
       "    <tr>\n",
       "      <th>3</th>\n",
       "      <td>Rage of angels</td>\n",
       "      <td>Sidney Sheldon</td>\n",
       "      <td>Fiction</td>\n",
       "      <td>A memorable, mesmerizing heroine Jennifer -- b...</td>\n",
       "    </tr>\n",
       "    <tr>\n",
       "      <th>4</th>\n",
       "      <td>The Four Loves</td>\n",
       "      <td>Clive Staples Lewis</td>\n",
       "      <td>Christian life</td>\n",
       "      <td>Lewis' work on the nature of love divides love...</td>\n",
       "    </tr>\n",
       "  </tbody>\n",
       "</table>\n",
       "</div>"
      ],
      "text/plain": [
       "            title                          authors  \\\n",
       "0          Gilead               Marilynne Robinson   \n",
       "1    Spider's Web  Charles Osborne;Agatha Christie   \n",
       "2    The One Tree             Stephen R. Donaldson   \n",
       "3  Rage of angels                   Sidney Sheldon   \n",
       "4  The Four Loves              Clive Staples Lewis   \n",
       "\n",
       "                      categories  \\\n",
       "0                        Fiction   \n",
       "1  Detective and mystery stories   \n",
       "2               American fiction   \n",
       "3                        Fiction   \n",
       "4                 Christian life   \n",
       "\n",
       "                                         description  \n",
       "0  A NOVEL THAT READERS and critics have been eag...  \n",
       "1  A new 'Christie for Christmas' -- a full-lengt...  \n",
       "2  Volume Two of Stephen Donaldson's acclaimed se...  \n",
       "3  A memorable, mesmerizing heroine Jennifer -- b...  \n",
       "4  Lewis' work on the nature of love divides love...  "
      ]
     },
     "execution_count": 6,
     "metadata": {},
     "output_type": "execute_result"
    }
   ],
   "source": [
    "#me quedo unicamente con las columnas que sonsidero importantes para recomendar libros\n",
    "df_features = df[['title','authors','categories', 'description']]\n",
    "df_features.head(5)"
   ]
  },
  {
   "cell_type": "code",
   "execution_count": 7,
   "metadata": {},
   "outputs": [
    {
     "data": {
      "text/plain": [
       "title            0\n",
       "authors         72\n",
       "categories      99\n",
       "description    262\n",
       "dtype: int64"
      ]
     },
     "execution_count": 7,
     "metadata": {},
     "output_type": "execute_result"
    }
   ],
   "source": [
    "df_features.isna().sum()"
   ]
  },
  {
   "cell_type": "code",
   "execution_count": 8,
   "metadata": {},
   "outputs": [
    {
     "data": {
      "text/plain": [
       "title          0\n",
       "authors        0\n",
       "categories     0\n",
       "description    0\n",
       "dtype: int64"
      ]
     },
     "execution_count": 8,
     "metadata": {},
     "output_type": "execute_result"
    }
   ],
   "source": [
    "#considerando que no hay menos del 10% de datos nulos, se procede a borrarlos\n",
    "df_clean = df_features.dropna()\n",
    "df_clean.isna().sum()"
   ]
  },
  {
   "cell_type": "code",
   "execution_count": 9,
   "metadata": {},
   "outputs": [
    {
     "data": {
      "text/plain": [
       "(6446, 4)"
      ]
     },
     "execution_count": 9,
     "metadata": {},
     "output_type": "execute_result"
    }
   ],
   "source": [
    "#datos totales\n",
    "df_clean.shape"
   ]
  },
  {
   "cell_type": "code",
   "execution_count": 10,
   "metadata": {},
   "outputs": [
    {
     "data": {
      "text/plain": [
       "(6437, 4)"
      ]
     },
     "execution_count": 10,
     "metadata": {},
     "output_type": "execute_result"
    }
   ],
   "source": [
    "#eliminar registros repetidos\n",
    "df_no_dup = df_clean.drop_duplicates()\n",
    "df_no_dup.shape"
   ]
  },
  {
   "cell_type": "code",
   "execution_count": 11,
   "metadata": {},
   "outputs": [
    {
     "data": {
      "text/html": [
       "<div>\n",
       "<style scoped>\n",
       "    .dataframe tbody tr th:only-of-type {\n",
       "        vertical-align: middle;\n",
       "    }\n",
       "\n",
       "    .dataframe tbody tr th {\n",
       "        vertical-align: top;\n",
       "    }\n",
       "\n",
       "    .dataframe thead th {\n",
       "        text-align: right;\n",
       "    }\n",
       "</style>\n",
       "<table border=\"1\" class=\"dataframe\">\n",
       "  <thead>\n",
       "    <tr style=\"text-align: right;\">\n",
       "      <th></th>\n",
       "      <th>title</th>\n",
       "      <th>authors</th>\n",
       "      <th>categories</th>\n",
       "      <th>description</th>\n",
       "    </tr>\n",
       "  </thead>\n",
       "  <tbody>\n",
       "    <tr>\n",
       "      <th>0</th>\n",
       "      <td>Gilead</td>\n",
       "      <td>Marilynne Robinson</td>\n",
       "      <td>Fiction</td>\n",
       "      <td>A NOVEL THAT READERS and critics have been eag...</td>\n",
       "    </tr>\n",
       "    <tr>\n",
       "      <th>1</th>\n",
       "      <td>Spider's Web</td>\n",
       "      <td>Charles Osborne;Agatha Christie</td>\n",
       "      <td>Detective and mystery stories</td>\n",
       "      <td>A new 'Christie for Christmas' -- a full-lengt...</td>\n",
       "    </tr>\n",
       "    <tr>\n",
       "      <th>2</th>\n",
       "      <td>The One Tree</td>\n",
       "      <td>Stephen R. Donaldson</td>\n",
       "      <td>American fiction</td>\n",
       "      <td>Volume Two of Stephen Donaldson's acclaimed se...</td>\n",
       "    </tr>\n",
       "    <tr>\n",
       "      <th>3</th>\n",
       "      <td>Rage of angels</td>\n",
       "      <td>Sidney Sheldon</td>\n",
       "      <td>Fiction</td>\n",
       "      <td>A memorable, mesmerizing heroine Jennifer -- b...</td>\n",
       "    </tr>\n",
       "    <tr>\n",
       "      <th>4</th>\n",
       "      <td>The Four Loves</td>\n",
       "      <td>Clive Staples Lewis</td>\n",
       "      <td>Christian life</td>\n",
       "      <td>Lewis' work on the nature of love divides love...</td>\n",
       "    </tr>\n",
       "  </tbody>\n",
       "</table>\n",
       "</div>"
      ],
      "text/plain": [
       "            title                          authors  \\\n",
       "0          Gilead               Marilynne Robinson   \n",
       "1    Spider's Web  Charles Osborne;Agatha Christie   \n",
       "2    The One Tree             Stephen R. Donaldson   \n",
       "3  Rage of angels                   Sidney Sheldon   \n",
       "4  The Four Loves              Clive Staples Lewis   \n",
       "\n",
       "                      categories  \\\n",
       "0                        Fiction   \n",
       "1  Detective and mystery stories   \n",
       "2               American fiction   \n",
       "3                        Fiction   \n",
       "4                 Christian life   \n",
       "\n",
       "                                         description  \n",
       "0  A NOVEL THAT READERS and critics have been eag...  \n",
       "1  A new 'Christie for Christmas' -- a full-lengt...  \n",
       "2  Volume Two of Stephen Donaldson's acclaimed se...  \n",
       "3  A memorable, mesmerizing heroine Jennifer -- b...  \n",
       "4  Lewis' work on the nature of love divides love...  "
      ]
     },
     "execution_count": 11,
     "metadata": {},
     "output_type": "execute_result"
    }
   ],
   "source": [
    "#se resetea el indice para que no haya problemas más adelante\n",
    "df_no_dup.reset_index(inplace=True, drop=True)\n",
    "df_no_dup.head()"
   ]
  },
  {
   "cell_type": "code",
   "execution_count": 12,
   "metadata": {},
   "outputs": [
    {
     "data": {
      "text/plain": [
       "array(['Fiction', 'Detective and mystery stories', 'American fiction',\n",
       "       'Christian life', 'Authors, English', 'Africa, East',\n",
       "       'Hyland, Morn (Fictitious character)', 'Adventure stories',\n",
       "       'Arthurian romances', 'Fantasy fiction', 'English drama',\n",
       "       'Country life', 'English fiction', 'Clergy',\n",
       "       'Aubrey, Jack (Fictitious character)',\n",
       "       'Detective and mystery stories, English', 'Black Death',\n",
       "       'Human cloning', 'Science fiction', 'Great Britain',\n",
       "       'American essays', 'China', 'Capitalism', 'Ireland',\n",
       "       'Juvenile Fiction', \"Children's stories, English\",\n",
       "       'Male friendship', 'Literary Collections',\n",
       "       'Beresford, Tommy (Fictitious character)',\n",
       "       'Imaginary wars and battles', 'Dysfunctional families',\n",
       "       'Poirot, Hercule (Fictitious character)', 'Christmas stories',\n",
       "       'Marple, Jane (Fictitious character)', 'Belgians',\n",
       "       'Battle, Superintendent (Fictitious character)',\n",
       "       'Baggins, Frodo (Fictitious character)', 'Cambridge (Mass.)',\n",
       "       'Business enterprises', 'Emotional problems',\n",
       "       'Characters and characteristics in motion pictures',\n",
       "       'Fantasy fiction, English', 'Fairy tales, English',\n",
       "       'Hallucinogenic drugs', \"Children's stories\", 'Parenthood',\n",
       "       'FICTION', 'Biography & Autobiography', 'Authors, American',\n",
       "       'Vietnam War, 1961-1975', 'Boys', 'Computer programmers', 'Actors',\n",
       "       'Friendship', 'Authors', 'Costume',\n",
       "       'African American plantation owners', 'Conduct of life',\n",
       "       'Alienation (Social psychology)', 'Cowboys', 'Christianity',\n",
       "       'Language Arts & Disciplines', 'Philosophy',\n",
       "       'Animals, Treatment of', 'Grandmothers', 'History',\n",
       "       'Business & Economics', 'Literary Criticism', 'Science',\n",
       "       'Family & Relationships', 'Juvenile Nonfiction',\n",
       "       'African Americans in radio broadcasting', 'Poetry', 'Self-Help',\n",
       "       'Sports & Recreation', 'True Crime', 'Psychology', 'Religion',\n",
       "       'Travel', 'Social Science', 'Health & Fitness', 'Music',\n",
       "       'Comics & Graphic Novels', 'Political science', 'Medical',\n",
       "       'Body, Mind & Spirit', 'Education', 'Political Science',\n",
       "       'Antiques & Collectibles', 'Young Adult Fiction', 'Reference',\n",
       "       'Art', 'Families', 'Humor', 'Nature', 'Foreign Language Study',\n",
       "       'Computers', 'Cosmology', 'Physicists', 'Australian fiction',\n",
       "       'Australia', 'Azerbaijan', 'Dublin (Ireland)', 'Americans',\n",
       "       'Slave insurrections', 'Amis, Kingsley',\n",
       "       'Dangerously mentally ill', 'American literature',\n",
       "       'Life on other planets', 'Anger', 'Comedy', \"Alzheimer's disease\",\n",
       "       'College teachers', 'Essays', 'Mothers and sons', 'Atonement',\n",
       "       'Badgers', 'Gangs', 'Human behavior', 'Social action', 'Horror',\n",
       "       'Galicia (Spain : Region)', 'Businesswomen', 'Domestic fiction',\n",
       "       'Japan', 'Crime investigation', 'Authors, German',\n",
       "       'Short stories, American', 'Short stories', 'African Americans',\n",
       "       'Exorcism', 'Europe', 'Horror tales', 'Cults', 'Divorced women',\n",
       "       'Bracelets', 'Death', 'Egyptologists', 'Demonology', 'Alcoholics',\n",
       "       'Feature films [DVD]', 'Brothers', 'England', 'Adultery',\n",
       "       'Accidents', 'Christmas', 'World War, 1914-1918',\n",
       "       'College attendance', 'London (England)', 'Children of the rich',\n",
       "       'Literature', 'City and town life', 'Classical fiction', 'War',\n",
       "       'Historical fiction', 'Igbo (African people)', 'Law',\n",
       "       'Mathematics', 'Ghost stories, American', 'Pigeons', 'Electrons',\n",
       "       'Existential psychotherapy', 'Albigenses', 'Sex',\n",
       "       'Tobruk, Battles of, 1941-1942', 'Latin America', 'Drama',\n",
       "       'Confucianism', 'Performing Arts', 'BIOGRAPHY & AUTOBIOGRAPHY',\n",
       "       'British', 'English', 'Humorous stories, English',\n",
       "       'Authors, Italian', 'Canadian wit and humor', 'Obesity',\n",
       "       'High schools', 'English poetry', 'Amour - Ouvrages avant 1800',\n",
       "       'Candy', 'Courtship', 'Dracula, Count (Fictitious character)',\n",
       "       'Bond, James (Fictitious character)', 'Dead',\n",
       "       'Cabrillo, Juan (Fictitious character)', 'Cookery', 'Jews',\n",
       "       'Children of Holocaust survivors', 'American wit and humor',\n",
       "       'Experimental fiction, American', 'Argentine literature',\n",
       "       'Novelists, American', 'Men', 'Czechoslovakia', 'French drama',\n",
       "       'Epidemics', 'Repression (Psychology)', 'Horror tales, American',\n",
       "       'Mentally ill', 'Handicapped youth', 'Sea monsters',\n",
       "       'Adirondack Mountains (N.Y.)', 'Design', 'Adult children',\n",
       "       'Folklore', 'Pets', 'Experimental fiction', 'Agriculture',\n",
       "       'First loves', 'Cancer', 'Curiosities and wonders',\n",
       "       'Graphic novels', 'Erinyes (Greek mythology)',\n",
       "       'Greek drama (Tragedy)', 'Babytime resource',\n",
       "       'Little, Stuart (Fictitious character)', 'Fantasy', 'Beowulf',\n",
       "       'Baggins, Bilbo (Fictitious character)', 'Zero (The number)',\n",
       "       'Psychoanalysis and religion', 'Poets, Chilean', 'Photography',\n",
       "       'Cooking', 'Art museum curators', 'United States', 'Bibles',\n",
       "       'Literary Criticism & Collections', 'New England',\n",
       "       'Authors, Canadian', 'Abandoned mines', 'Air pilots',\n",
       "       'Community life', 'Rock musicians', 'Banks and banking, British',\n",
       "       'Brothers and sisters', 'Conspiracies', 'Egypt', 'Diary fiction',\n",
       "       'Bail bond agents', 'Catholics', 'Political leadership',\n",
       "       'Bosnia and Hercegovina', 'Mormon fundamentalism',\n",
       "       'American Wit And Humour', 'Cocaine industry', 'Murder', 'India',\n",
       "       'Bombings', 'Autonomy (Psychology).',\n",
       "       'Dent, Arthur (Fictitious character)', 'Paris (France)',\n",
       "       'Antislavery movements', 'Books', 'Apartments', 'Actresses',\n",
       "       'Germany', 'Adventure stories, English', 'Animal sanctuaries',\n",
       "       'Adventure fiction', 'Buddhism', 'Bereavement',\n",
       "       'Human-alien encounters', 'Motion picture plays', 'Amnesia',\n",
       "       'Auschwitz (Poland : Concentration camp)', 'Cities and towns',\n",
       "       'Political fiction', 'History, Modern', 'Antisemitism',\n",
       "       'Popular culture', 'Misogyny', 'Apartheid', 'Botswana',\n",
       "       'Man-woman relationships', 'Vice-Presidents', 'France',\n",
       "       'Gardening', 'American poetry', 'Cooking, French', 'Bible',\n",
       "       'Occult fiction', 'Architecture', 'Intelligence service',\n",
       "       'Ryan, Jack (Fictitious character)', 'Arctic regions',\n",
       "       'Lecter, Hannibal (Fictitious character)', 'American drama',\n",
       "       \"Children's plays\", 'Dating (Social customs)', 'Blind',\n",
       "       'Animals, Mythical', 'Diaries',\n",
       "       'Babysitters Club (Imaginary organization)', 'Fairy tales',\n",
       "       'Horror stories', 'Trials (Witchcraft)',\n",
       "       \"Children's poetry, American\", 'Ghost stories', 'Stone age',\n",
       "       'Alanna (Fictitious character : Pierce)', 'Queens',\n",
       "       'Los Angeles (Calif.)', 'Television', 'Bullying', 'Adolescence',\n",
       "       'Fantasy.', 'Mental illness', 'Allegories', 'Dominican Republic',\n",
       "       'Games & Activities', 'Blake, Anita (Fictitious character)',\n",
       "       'Science fiction, English.',\n",
       "       'Detective and mystery stories, English.',\n",
       "       'Science fiction, English', 'Drenai (Imaginary place)',\n",
       "       'Discworld (Imaginary place)', 'Persian Gulf War, 1991',\n",
       "       'Criminals', 'Arabic fiction', 'Chocolate', 'Brewing',\n",
       "       'Ballet dancers', 'Cider house rules. (Motion picture)',\n",
       "       'Finance, Personal', 'New York (State)', 'Contests',\n",
       "       'Eretz Israel', 'Apprentices', 'Manuscripts', 'Divorced people',\n",
       "       'Boston (Mass.)', 'Amazon River Region', 'Airplane crash survival',\n",
       "       'Czech fiction', 'Civil law', 'Hitchhiking', 'Latin poetry',\n",
       "       'Polish poetry', 'Bus travel', 'Teenagers', 'Gambling',\n",
       "       'Poets, American', 'Czech Republic', 'Prisoners of war',\n",
       "       'Englisch - Geschichte - Lyrik - Aufsatzsammlung',\n",
       "       'Mathematicians', 'Black humor (Literature)', 'Dreams',\n",
       "       'Apartment houses', 'Motion picture actors and actresses',\n",
       "       'Boarding schools', 'Short stories, English',\n",
       "       'Alternative histories (Fiction)', 'Friendship in adolescence',\n",
       "       'Family life', 'Behavior', 'Adult education', 'Acting', 'Ballet',\n",
       "       'Horror stories.', 'Cats', 'Family', 'English language',\n",
       "       'Sexual behavior surveys', 'Canada', 'Espionage',\n",
       "       'Electronic books', 'Love poetry', 'Alcestis (Greek mythology)',\n",
       "       'Boarding school-fiction', 'African American men', 'Sex customs',\n",
       "       'Provence (France)', 'Technology & Engineering',\n",
       "       'Essentialism (Philosophy)', 'Animal sounds', 'Music trade',\n",
       "       'Computer science', 'Democracy', 'Psycho (Motion picture : 1960)',\n",
       "       'Business women', 'Angels', 'Aboriginal Australians',\n",
       "       'Interplanetary voyages', 'Photographers',\n",
       "       'Chrestomanci (Fictitious character)', 'Fantasy fiction, American',\n",
       "       'Labrador retriever', 'Euthanasia', 'Reducing diets',\n",
       "       \"Partition of decedents' estates\", 'Archaeological expeditions',\n",
       "       'Explorers', 'Love', 'Games', 'Birds', 'Language and languages',\n",
       "       'Blacks', 'City girl', 'Businessmen', 'Humorous fiction',\n",
       "       'Chick lit', 'Female friendship', 'Cornwall (England : County)',\n",
       "       'American wit and humor, Pictorial',\n",
       "       'Film producers and directors', 'Kyoto (Japan)', 'Crusades',\n",
       "       'Canterbury (England)', 'Adventure stories, American', 'Aging',\n",
       "       'Arithmetic', 'Outlaws', 'Bedtime', 'Cosmetics industry',\n",
       "       'Confianza en sí mismo', 'Dallas, Eve (Fictitious character)',\n",
       "       'Novelists, English', 'Escapes',\n",
       "       'Castle Rock (Me. : Imaginary place)', 'Benedictine monasteries',\n",
       "       'Amyotrophic lateral sclerosis', 'Abused wives', 'Birthparents',\n",
       "       'Conner, Rainie (Fictitious character)',\n",
       "       'Continental Op (Fictitious character)',\n",
       "       '87th Precinct (Imaginary place)', 'Women terrorists',\n",
       "       'Organized Crime', 'Defectors', 'College stories',\n",
       "       'Crime investigations', 'Austria', 'Surealism', 'Cellists',\n",
       "       'Holt, Max (Fictitious character)', 'Magic', 'Zoology',\n",
       "       'Transportation', 'JUVENILE FICTION', 'Dystopias', 'Good and evil',\n",
       "       'Heroes', 'Large print books', 'Dragons', 'Christian saints',\n",
       "       'Insane, Criminal and dangerous', 'Divorce', 'Aircraft accidents',\n",
       "       'Study Aids', 'Crafts & Hobbies', 'Sea stories',\n",
       "       'Detective and mystery comic books, strips, etc',\n",
       "       'Theology, Doctrinal', 'Aeneas (Legendary character)', 'Cookbooks',\n",
       "       'Physics', 'European fiction', 'Artists', 'House & Home',\n",
       "       'Bumppo, Natty (Fictitious character)', 'Illinois',\n",
       "       'Yoknapatawpha County (Imaginary place)',\n",
       "       'Humorous stories, American', 'Book burning',\n",
       "       'Nanjing (Jiangsu Sheng, China)', 'Black market', 'Shipwrecks',\n",
       "       'Cerebrovascular disease', 'Antiheroes',\n",
       "       'Comic books, strips, etc', 'Communication in families',\n",
       "       'Audiobooks', 'Existentialism', 'Autism', 'Botanique',\n",
       "       'English essays', 'Inventions', 'Building laws',\n",
       "       'LITERARY CRITICISM', 'Amish', 'Human-animal relationships',\n",
       "       'Imperialism', 'Catholic women', 'Aged women', 'Ballets',\n",
       "       'Humorous stories', 'Butlers', 'Gardens', 'Assassins',\n",
       "       'Married people', 'Actors and actresses',\n",
       "       'Church work with the poor',\n",
       "       'Estados Unidos - Relaciones exteriores - 1945-1989',\n",
       "       'Authors, Cuban', 'Death (Fictitious character : Gaiman)',\n",
       "       'Astronomers', 'Epic literature', 'Girls', 'Elves',\n",
       "       'Conan (Fictitious character)', 'Otherland (Imaginary place)',\n",
       "       'Courage', 'Identity (Psychology)', 'Science fiction, American',\n",
       "       'Mars (Planet)', 'Bosnia and Herzegovina', 'Disasters',\n",
       "       'Lisbon (Portugal)', 'Aeronautics', 'Childbirth',\n",
       "       'Consumer behavior', 'Seduction', 'Authors, Arab',\n",
       "       'Nineteen ninety-eight, A.D.', 'Children of divorced parents',\n",
       "       'Animals', 'Detective and mystery stories, American', 'Amnesty',\n",
       "       'Everest, Mount (China and Nepal)', 'Adjustment (Psychology)',\n",
       "       'Boats and boating', 'People with social disabilities',\n",
       "       'Minimal brain dysfunction in children', 'Spiritual life',\n",
       "       'Meditation', 'Gay men', 'Christian fiction',\n",
       "       'Napoleonic Wars, 1800-1815', 'Indic fiction (English)'],\n",
       "      dtype=object)"
      ]
     },
     "execution_count": 12,
     "metadata": {},
     "output_type": "execute_result"
    }
   ],
   "source": [
    "#ver todas las categorías de la columna 'categories'\n",
    "df_no_dup['categories'].unique()"
   ]
  },
  {
   "cell_type": "code",
   "execution_count": 13,
   "metadata": {},
   "outputs": [
    {
     "data": {
      "text/plain": [
       "531"
      ]
     },
     "execution_count": 13,
     "metadata": {},
     "output_type": "execute_result"
    }
   ],
   "source": [
    "#total de tipos de categorias\n",
    "df_no_dup['categories'].nunique()"
   ]
  },
  {
   "cell_type": "code",
   "execution_count": 14,
   "metadata": {},
   "outputs": [],
   "source": [
    "#diccionario para reemplazar algunas categorias por otras\n",
    "categoria_map = { \"^science fiction\":\"Science Fiction\", \".*science fiction.*\":\"Science Fiction\",\n",
    "    \"^fiction\":\"Fiction\", \"^fantasy\":\"Fantasy\", \".*fiction.*\":\"Fiction\",\".*fantasy.*\": \"Fantasy\",\n",
    "    \".*mystery.*\": \"Mystery\",'Mysticism': 'Spirituality', \".*christian.*\":'Religion', \".*religion.*\":'Religion',\n",
    "    \".*biography.*\":'Biography', \".*history.*\": \"History\", \".*children.*\":\"Children\", 'Juvenile Nonfiction': 'Children',\n",
    "    \".*short stories.*\": \"Fiction\",\".*adventure.*\": \"Adventure\", \".*drama.*\": \"Drama\", \".*poetry.*\": \"Poetry\",\n",
    "    \".*love.*\": \"Romance\",\".*courtship.*\": \"Romance\",\".*sex.*\": \"Romance\",\".*romance.*\": \"Romance\", \n",
    "    \".*horror.*\": \"Horror\", \".*self-help.*\": \"Self-Help\", \".*psychology.*\": \"Psychology\", \".*philosophy.*\": \"Psychology\",\n",
    "    \".*spiritual life.*\": 'Spirituality',\".*computer.*\": 'Technology', \".*science.*\": \"Science\", \"^political\":'Politics', \n",
    "    \"^crime\":'Crime', \".*crime.*\":'Crime', \"^literary\":'Literary Studies', \".*novels.*\": 'Graphic Novel', \".*health.*\": 'Health', \n",
    "    \".*medical.*\": 'Health', \".*family.*\": 'Family', \".*humor.*\": 'Humor', 'language arts & disciplines': 'Education', \n",
    "    \".*study.*\": 'Education', '.*music.*': 'Arts', '.*art.*': 'Arts', \".*architecture.*\": 'Arts', \".*education.*\": 'Education', \n",
    "    'nature': 'Nature', 'animals': 'Nature', 'pets': 'Nature',\".*travel.*\": 'Travel', \"cook\": 'Cooking',\n",
    "    \".*technology.*\": 'Technology',\".*games.*\": 'Games', \".*sports.*\": 'Sports', \".*business.*\": 'Business',\n",
    "    'social science': 'Sociology', 'sociology': 'Sociology'} "
   ]
  },
  {
   "cell_type": "code",
   "execution_count": 15,
   "metadata": {},
   "outputs": [
    {
     "data": {
      "text/html": [
       "<div>\n",
       "<style scoped>\n",
       "    .dataframe tbody tr th:only-of-type {\n",
       "        vertical-align: middle;\n",
       "    }\n",
       "\n",
       "    .dataframe tbody tr th {\n",
       "        vertical-align: top;\n",
       "    }\n",
       "\n",
       "    .dataframe thead th {\n",
       "        text-align: right;\n",
       "    }\n",
       "</style>\n",
       "<table border=\"1\" class=\"dataframe\">\n",
       "  <thead>\n",
       "    <tr style=\"text-align: right;\">\n",
       "      <th></th>\n",
       "      <th>title</th>\n",
       "      <th>authors</th>\n",
       "      <th>categories</th>\n",
       "      <th>description</th>\n",
       "      <th>categorias_limpias</th>\n",
       "    </tr>\n",
       "  </thead>\n",
       "  <tbody>\n",
       "    <tr>\n",
       "      <th>0</th>\n",
       "      <td>Gilead</td>\n",
       "      <td>Marilynne Robinson</td>\n",
       "      <td>Fiction</td>\n",
       "      <td>A NOVEL THAT READERS and critics have been eag...</td>\n",
       "      <td>Fiction</td>\n",
       "    </tr>\n",
       "    <tr>\n",
       "      <th>1</th>\n",
       "      <td>Spider's Web</td>\n",
       "      <td>Charles Osborne; Agatha Christie</td>\n",
       "      <td>Detective and mystery stories</td>\n",
       "      <td>A new 'Christie for Christmas' -- a full-lengt...</td>\n",
       "      <td>Mystery</td>\n",
       "    </tr>\n",
       "    <tr>\n",
       "      <th>2</th>\n",
       "      <td>The One Tree</td>\n",
       "      <td>Stephen R. Donaldson</td>\n",
       "      <td>American fiction</td>\n",
       "      <td>Volume Two of Stephen Donaldson's acclaimed se...</td>\n",
       "      <td>Fiction</td>\n",
       "    </tr>\n",
       "    <tr>\n",
       "      <th>3</th>\n",
       "      <td>Rage of angels</td>\n",
       "      <td>Sidney Sheldon</td>\n",
       "      <td>Fiction</td>\n",
       "      <td>A memorable, mesmerizing heroine Jennifer -- b...</td>\n",
       "      <td>Fiction</td>\n",
       "    </tr>\n",
       "    <tr>\n",
       "      <th>4</th>\n",
       "      <td>The Four Loves</td>\n",
       "      <td>Clive Staples Lewis</td>\n",
       "      <td>Christian life</td>\n",
       "      <td>Lewis' work on the nature of love divides love...</td>\n",
       "      <td>Religion</td>\n",
       "    </tr>\n",
       "  </tbody>\n",
       "</table>\n",
       "</div>"
      ],
      "text/plain": [
       "            title                           authors  \\\n",
       "0          Gilead                Marilynne Robinson   \n",
       "1    Spider's Web  Charles Osborne; Agatha Christie   \n",
       "2    The One Tree              Stephen R. Donaldson   \n",
       "3  Rage of angels                    Sidney Sheldon   \n",
       "4  The Four Loves               Clive Staples Lewis   \n",
       "\n",
       "                      categories  \\\n",
       "0                        Fiction   \n",
       "1  Detective and mystery stories   \n",
       "2               American fiction   \n",
       "3                        Fiction   \n",
       "4                 Christian life   \n",
       "\n",
       "                                         description categorias_limpias  \n",
       "0  A NOVEL THAT READERS and critics have been eag...            Fiction  \n",
       "1  A new 'Christie for Christmas' -- a full-lengt...            Mystery  \n",
       "2  Volume Two of Stephen Donaldson's acclaimed se...            Fiction  \n",
       "3  A memorable, mesmerizing heroine Jennifer -- b...            Fiction  \n",
       "4  Lewis' work on the nature of love divides love...           Religion  "
      ]
     },
     "execution_count": 15,
     "metadata": {},
     "output_type": "execute_result"
    }
   ],
   "source": [
    "#crear una columna con las categorías ya reemplazadas y de paso aprovecho para que la columna authors sea más \"claro\"\n",
    "df_cln_category = df_no_dup.copy()\n",
    "df_cln_category['categorias_limpias'] = df_cln_category['categories'].str.lower().replace(categoria_map, regex=True)\n",
    "df_cln_category['authors'] = df_cln_category['authors'].str.replace(';', '; ')\n",
    "df_cln_category.head()"
   ]
  },
  {
   "cell_type": "code",
   "execution_count": 16,
   "metadata": {},
   "outputs": [
    {
     "data": {
      "text/plain": [
       "410"
      ]
     },
     "execution_count": 16,
     "metadata": {},
     "output_type": "execute_result"
    }
   ],
   "source": [
    "#cantidad de caegorias despues del remplazo\n",
    "df_cln_category['categorias_limpias'].nunique()"
   ]
  },
  {
   "cell_type": "code",
   "execution_count": null,
   "metadata": {},
   "outputs": [
    {
     "data": {
      "text/html": [
       "<div>\n",
       "<style scoped>\n",
       "    .dataframe tbody tr th:only-of-type {\n",
       "        vertical-align: middle;\n",
       "    }\n",
       "\n",
       "    .dataframe tbody tr th {\n",
       "        vertical-align: top;\n",
       "    }\n",
       "\n",
       "    .dataframe thead th {\n",
       "        text-align: right;\n",
       "    }\n",
       "</style>\n",
       "<table border=\"1\" class=\"dataframe\">\n",
       "  <thead>\n",
       "    <tr style=\"text-align: right;\">\n",
       "      <th></th>\n",
       "      <th>title</th>\n",
       "      <th>authors</th>\n",
       "      <th>categories</th>\n",
       "      <th>description</th>\n",
       "      <th>categorias_limpias</th>\n",
       "      <th>text</th>\n",
       "      <th>title_author</th>\n",
       "    </tr>\n",
       "  </thead>\n",
       "  <tbody>\n",
       "    <tr>\n",
       "      <th>0</th>\n",
       "      <td>Gilead</td>\n",
       "      <td>Marilynne Robinson</td>\n",
       "      <td>Fiction</td>\n",
       "      <td>A NOVEL THAT READERS and critics have been eag...</td>\n",
       "      <td>Fiction</td>\n",
       "      <td>Gilead Marilynne Robinson Fiction A NOVEL THAT...</td>\n",
       "      <td>Gilead de Marilynne Robinson</td>\n",
       "    </tr>\n",
       "    <tr>\n",
       "      <th>1</th>\n",
       "      <td>Spider's Web</td>\n",
       "      <td>Charles Osborne; Agatha Christie</td>\n",
       "      <td>Detective and mystery stories</td>\n",
       "      <td>A new 'Christie for Christmas' -- a full-lengt...</td>\n",
       "      <td>Mystery</td>\n",
       "      <td>Spider's Web Charles Osborne; Agatha Christie ...</td>\n",
       "      <td>Spider's Web de Charles Osborne; Agatha Christie</td>\n",
       "    </tr>\n",
       "    <tr>\n",
       "      <th>2</th>\n",
       "      <td>The One Tree</td>\n",
       "      <td>Stephen R. Donaldson</td>\n",
       "      <td>American fiction</td>\n",
       "      <td>Volume Two of Stephen Donaldson's acclaimed se...</td>\n",
       "      <td>Fiction</td>\n",
       "      <td>The One Tree Stephen R. Donaldson Fiction Volu...</td>\n",
       "      <td>The One Tree de Stephen R. Donaldson</td>\n",
       "    </tr>\n",
       "    <tr>\n",
       "      <th>3</th>\n",
       "      <td>Rage of angels</td>\n",
       "      <td>Sidney Sheldon</td>\n",
       "      <td>Fiction</td>\n",
       "      <td>A memorable, mesmerizing heroine Jennifer -- b...</td>\n",
       "      <td>Fiction</td>\n",
       "      <td>Rage of angels Sidney Sheldon Fiction A memora...</td>\n",
       "      <td>Rage of angels de Sidney Sheldon</td>\n",
       "    </tr>\n",
       "    <tr>\n",
       "      <th>4</th>\n",
       "      <td>The Four Loves</td>\n",
       "      <td>Clive Staples Lewis</td>\n",
       "      <td>Christian life</td>\n",
       "      <td>Lewis' work on the nature of love divides love...</td>\n",
       "      <td>Religion</td>\n",
       "      <td>The Four Loves Clive Staples Lewis Religion Le...</td>\n",
       "      <td>The Four Loves de Clive Staples Lewis</td>\n",
       "    </tr>\n",
       "  </tbody>\n",
       "</table>\n",
       "</div>"
      ],
      "text/plain": [
       "            title                           authors  \\\n",
       "0          Gilead                Marilynne Robinson   \n",
       "1    Spider's Web  Charles Osborne; Agatha Christie   \n",
       "2    The One Tree              Stephen R. Donaldson   \n",
       "3  Rage of angels                    Sidney Sheldon   \n",
       "4  The Four Loves               Clive Staples Lewis   \n",
       "\n",
       "                      categories  \\\n",
       "0                        Fiction   \n",
       "1  Detective and mystery stories   \n",
       "2               American fiction   \n",
       "3                        Fiction   \n",
       "4                 Christian life   \n",
       "\n",
       "                                         description categorias_limpias  \\\n",
       "0  A NOVEL THAT READERS and critics have been eag...            Fiction   \n",
       "1  A new 'Christie for Christmas' -- a full-lengt...            Mystery   \n",
       "2  Volume Two of Stephen Donaldson's acclaimed se...            Fiction   \n",
       "3  A memorable, mesmerizing heroine Jennifer -- b...            Fiction   \n",
       "4  Lewis' work on the nature of love divides love...           Religion   \n",
       "\n",
       "                                                text  \\\n",
       "0  Gilead Marilynne Robinson Fiction A NOVEL THAT...   \n",
       "1  Spider's Web Charles Osborne; Agatha Christie ...   \n",
       "2  The One Tree Stephen R. Donaldson Fiction Volu...   \n",
       "3  Rage of angels Sidney Sheldon Fiction A memora...   \n",
       "4  The Four Loves Clive Staples Lewis Religion Le...   \n",
       "\n",
       "                                       title_author  \n",
       "0                      Gilead de Marilynne Robinson  \n",
       "1  Spider's Web de Charles Osborne; Agatha Christie  \n",
       "2              The One Tree de Stephen R. Donaldson  \n",
       "3                  Rage of angels de Sidney Sheldon  \n",
       "4             The Four Loves de Clive Staples Lewis  "
      ]
     },
     "execution_count": 17,
     "metadata": {},
     "output_type": "execute_result"
    }
   ],
   "source": [
    "#crear dos nevas columnas, una que muestre las columnas que se van a usar para crear el modelo (text) \n",
    "# y otra donde nos enseñe el titulo del libro y sus autores ('title_author')\n",
    "df_join = df_cln_category.copy()\n",
    "\n",
    "df_join['text'] = df_cln_category[['title','authors','categorias_limpias', 'description']].apply(lambda x: ' '.join(x.values.astype(str)), axis=1)\n",
    "df_join['title_author'] = df_cln_category[['title','authors']].apply(lambda x: ' de '.join(x.values.astype(str)), axis=1)\n",
    "df_join.head()"
   ]
  },
  {
   "cell_type": "code",
   "execution_count": 18,
   "metadata": {},
   "outputs": [
    {
     "data": {
      "text/plain": [
       "(6279, 7)"
      ]
     },
     "execution_count": 18,
     "metadata": {},
     "output_type": "execute_result"
    }
   ],
   "source": [
    "#eliminar libros repetidos\n",
    "df_no_dup_title_author = df_join.drop_duplicates(subset='title_author')\n",
    "#resetear index\n",
    "df_no_dup_title_author.reset_index(inplace=True, drop=True)\n",
    "#tamañ del dataframe\n",
    "df_no_dup_title_author.shape"
   ]
  },
  {
   "cell_type": "code",
   "execution_count": 19,
   "metadata": {},
   "outputs": [
    {
     "data": {
      "text/plain": [
       "0       Gilead Marilynne Robinson Fiction A NOVEL THAT...\n",
       "1       Spider's Web Charles Osborne; Agatha Christie ...\n",
       "2       The One Tree Stephen R. Donaldson Fiction Volu...\n",
       "3       Rage of angels Sidney Sheldon Fiction A memora...\n",
       "4       The Four Loves Clive Staples Lewis Religion Le...\n",
       "                              ...                        \n",
       "6274    Journey to the East Hermann Hesse Adventure Th...\n",
       "6275    The Monk Who Sold His Ferrari: A Fable About F...\n",
       "6276    I Am that Sri Nisargadatta Maharaj; Sudhakar S...\n",
       "6277    The Berlin Phenomenology Georg Wilhelm Friedri...\n",
       "6278    'I'm Telling You Stories' Helena Grice; Tim Wo...\n",
       "Name: text, Length: 6279, dtype: object"
      ]
     },
     "execution_count": 19,
     "metadata": {},
     "output_type": "execute_result"
    }
   ],
   "source": [
    "#columna que se va a usar para crear el modelo de recomendación\n",
    "input = df_no_dup_title_author['text']\n",
    "input"
   ]
  },
  {
   "cell_type": "code",
   "execution_count": 20,
   "metadata": {},
   "outputs": [],
   "source": [
    "#función para tokenizar y limpiar datos\n",
    "def clean_token(corpus, patron):\n",
    "    stop_words = set(stopwords.words('english'))\n",
    "    #se tokeniza teniendo en cuenta el patron pasado por parametro\n",
    "    tokenizer = RegexpTokenizer(patron) \n",
    "    \n",
    "    #lista para ir guardando los textos tokenizados y limpios\n",
    "    cleaned_tokens= []\n",
    "\n",
    "    for text in corpus:\n",
    "        #hacer que los textos esten en minúscula, tokenizarlos y filtrarlos por las stop_words\n",
    "        text = text.lower()\n",
    "        tokens = tokenizer.tokenize(text)\n",
    "        filtered_tokens = [token for token in tokens if token not in stop_words]\n",
    "        cleaned_tokens.append(filtered_tokens)\n",
    "        \n",
    "    #guardarlos en una Serie de pandas\n",
    "    clean_token = pd.Series(cleaned_tokens)\n",
    "    return clean_token"
   ]
  },
  {
   "cell_type": "code",
   "execution_count": 21,
   "metadata": {},
   "outputs": [
    {
     "data": {
      "text/plain": [
       "0       [gilead, marilynne, robinson, fiction, novel, ...\n",
       "1       [spider's, web, charles, osborne, agatha, chri...\n",
       "2       [one, tree, stephen, r, donaldson, fiction, vo...\n",
       "3       [rage, angels, sidney, sheldon, fiction, memor...\n",
       "4       [four, loves, clive, staples, lewis, religion,...\n",
       "                              ...                        \n",
       "6274    [journey, east, hermann, hesse, adventure, boo...\n",
       "6275    [monk, sold, ferrari, fable, fulfilling, dream...\n",
       "6276    [sri, nisargadatta, maharaj, sudhakar, dikshit...\n",
       "6277    [berlin, phenomenology, georg, wilhelm, friedr...\n",
       "6278    ['i'm, telling, stories', helena, grice, tim, ...\n",
       "Length: 6279, dtype: object"
      ]
     },
     "execution_count": 21,
     "metadata": {},
     "output_type": "execute_result"
    }
   ],
   "source": [
    "#patrón para limpiar los textos\n",
    "patron = '[^\\\\s^.^;^,^:,^(, ^)]+'\n",
    "#usar funcion para limpiar y tokenizar los textos\n",
    "X_cleaned = clean_token(input, patron)\n",
    "X_cleaned"
   ]
  },
  {
   "cell_type": "code",
   "execution_count": 22,
   "metadata": {},
   "outputs": [],
   "source": [
    "#función para stemming\n",
    "def text_stemmered(corpus_tokens):\n",
    "    #SnowballStemmer para stemmatizar los textos\n",
    "    stemmer = SnowballStemmer('english')\n",
    "    #lista para ir guardando los textos ya stemmatizados\n",
    "    list_stemmed_texts = []\n",
    "    \n",
    "    #stemmatizar los textos\n",
    "    for texto in corpus_tokens:\n",
    "        stems = [stemmer.stem(palabra) for palabra in texto]\n",
    "        texto_stems = ' '.join(stems)\n",
    "        list_stemmed_texts.append(texto_stems)\n",
    "        \n",
    "    #guardar los textos ya stemmatizados en una Serie    \n",
    "    text_stemmered = pd.Series(list_stemmed_texts)\n",
    "    return text_stemmered"
   ]
  },
  {
   "cell_type": "code",
   "execution_count": 23,
   "metadata": {},
   "outputs": [
    {
     "data": {
      "text/plain": [
       "0       gilead marilynn robinson fiction novel reader ...\n",
       "1       spider web charl osborn agatha christi mysteri...\n",
       "2       one tree stephen r donaldson fiction volum two...\n",
       "3       rage angel sidney sheldon fiction memor mesmer...\n",
       "4       four love clive stapl lewi religion lewi work ...\n",
       "                              ...                        \n",
       "6274    journey east hermann hess adventur book tell t...\n",
       "6275    monk sold ferrari fabl fulfil dream & reach de...\n",
       "6276    sri nisargadatta maharaj sudhakar dikshit psyc...\n",
       "6277    berlin phenomenolog georg wilhelm friedrich he...\n",
       "6278    i'm tell stori helena grice tim wood literari ...\n",
       "Length: 6279, dtype: object"
      ]
     },
     "execution_count": 23,
     "metadata": {},
     "output_type": "execute_result"
    }
   ],
   "source": [
    "#Stematizar los textos ya tokenizados y limpios\n",
    "X_stemmered = text_stemmered(X_cleaned)\n",
    "X_stemmered"
   ]
  },
  {
   "cell_type": "markdown",
   "metadata": {},
   "source": [
    "## Crear modelo"
   ]
  },
  {
   "cell_type": "code",
   "execution_count": 24,
   "metadata": {},
   "outputs": [
    {
     "data": {
      "text/plain": [
       "<6279x2000 sparse matrix of type '<class 'numpy.float64'>'\n",
       "\twith 174631 stored elements in Compressed Sparse Row format>"
      ]
     },
     "execution_count": 24,
     "metadata": {},
     "output_type": "execute_result"
    }
   ],
   "source": [
    "#se usa Tf-Idf para crear el modelo de recomendación\n",
    "tf_idf = TfidfVectorizer(max_features=2000,)\n",
    "\n",
    "#se transforman los textos \n",
    "X= tf_idf.fit_transform(X_stemmered)\n",
    "X"
   ]
  },
  {
   "cell_type": "code",
   "execution_count": 25,
   "metadata": {},
   "outputs": [
    {
     "data": {
      "text/plain": [
       "title_author\n",
       "Gilead de Marilynne Robinson                                                                                      0\n",
       "Spider's Web de Charles Osborne; Agatha Christie                                                                  1\n",
       "The One Tree de Stephen R. Donaldson                                                                              2\n",
       "Rage of angels de Sidney Sheldon                                                                                  3\n",
       "The Four Loves de Clive Staples Lewis                                                                             4\n",
       "                                                                                                               ... \n",
       "Journey to the East de Hermann Hesse                                                                           6432\n",
       "The Monk Who Sold His Ferrari: A Fable About Fulfilling Your Dreams & Reaching Your Destiny de Robin Sharma    6433\n",
       "I Am that de Sri Nisargadatta Maharaj; Sudhakar S. Dikshit                                                     6434\n",
       "The Berlin Phenomenology de Georg Wilhelm Friedrich Hegel                                                      6435\n",
       "'I'm Telling You Stories' de Helena Grice; Tim Woods                                                           6436\n",
       "Length: 6437, dtype: int64"
      ]
     },
     "execution_count": 25,
     "metadata": {},
     "output_type": "execute_result"
    }
   ],
   "source": [
    "#crear serie que contengan los titulos y l autores de los libros\n",
    "books = pd.Series(df_join.index, index=df_join['title_author'])\n",
    "books.index = books.index.str.strip()\n",
    "books"
   ]
  },
  {
   "cell_type": "code",
   "execution_count": 26,
   "metadata": {},
   "outputs": [],
   "source": [
    "#Función para buscar recomendaciones de libros\n",
    "def recomendacion(book, books=books, X=X):\n",
    "    #se indica el indice del libro dado por parametro y se busca en X\n",
    "    id = books[book]\n",
    "    query = X[id].toarray()\n",
    "    #se usa cosine similarity para ver la similitud\n",
    "    similari = cosine_similarity(query, X).flatten()\n",
    "    #se muetran los más similares ordenados del menor a mayor comenzando por el indice 1 para que no repita el libro\n",
    "    recomend = (-similari).argsort()[1:11]\n",
    "    #se buscan los indices que tuvieron mayor similitud con el libro dado\n",
    "    recomends = df_join['title_author'].iloc[recomend]\n",
    "    print('LIBROS RECOMENDADOS')\n",
    "    print(recomends)"
   ]
  },
  {
   "cell_type": "markdown",
   "metadata": {},
   "source": [
    "## Probar modelo"
   ]
  },
  {
   "cell_type": "code",
   "execution_count": 27,
   "metadata": {},
   "outputs": [
    {
     "name": "stdout",
     "output_type": "stream",
     "text": [
      "LIBROS RECOMENDADOS\n",
      "16      Witness for the Prosecution & Selected Plays d...\n",
      "1546                     The Starry Rift de James Tiptree\n",
      "5739    Preludes and Nocturnes de Neil Gaiman; Sam Kie...\n",
      "5741                              The Wake de Neil Gaiman\n",
      "49               A Murder is Announced de Agatha Christie\n",
      "55              The Secret of Chimneys de Agatha Christie\n",
      "6                     An Autobiography de Agatha Christie\n",
      "72              The Listerdale Mystery de Agatha Christie\n",
      "2466                            Rainbow Six de Tom Clancy\n",
      "1428                      Marilyn Manson de Kurt Reighley\n",
      "Name: title_author, dtype: object\n"
     ]
    }
   ],
   "source": [
    "recomendacion(\"Spider's Web de Charles Osborne; Agatha Christie\")"
   ]
  },
  {
   "cell_type": "markdown",
   "metadata": {},
   "source": [
    "## Guardar archivos importantes"
   ]
  },
  {
   "cell_type": "code",
   "execution_count": 28,
   "metadata": {},
   "outputs": [
    {
     "data": {
      "text/html": [
       "<div>\n",
       "<style scoped>\n",
       "    .dataframe tbody tr th:only-of-type {\n",
       "        vertical-align: middle;\n",
       "    }\n",
       "\n",
       "    .dataframe tbody tr th {\n",
       "        vertical-align: top;\n",
       "    }\n",
       "\n",
       "    .dataframe thead th {\n",
       "        text-align: right;\n",
       "    }\n",
       "</style>\n",
       "<table border=\"1\" class=\"dataframe\">\n",
       "  <thead>\n",
       "    <tr style=\"text-align: right;\">\n",
       "      <th></th>\n",
       "      <th>title_author</th>\n",
       "      <th>text_stemmered</th>\n",
       "    </tr>\n",
       "  </thead>\n",
       "  <tbody>\n",
       "    <tr>\n",
       "      <th>0</th>\n",
       "      <td>Gilead de Marilynne Robinson</td>\n",
       "      <td>gilead marilynn robinson fiction novel reader ...</td>\n",
       "    </tr>\n",
       "    <tr>\n",
       "      <th>1</th>\n",
       "      <td>Spider's Web de Charles Osborne; Agatha Christie</td>\n",
       "      <td>spider web charl osborn agatha christi mysteri...</td>\n",
       "    </tr>\n",
       "    <tr>\n",
       "      <th>2</th>\n",
       "      <td>The One Tree de Stephen R. Donaldson</td>\n",
       "      <td>one tree stephen r donaldson fiction volum two...</td>\n",
       "    </tr>\n",
       "    <tr>\n",
       "      <th>3</th>\n",
       "      <td>Rage of angels de Sidney Sheldon</td>\n",
       "      <td>rage angel sidney sheldon fiction memor mesmer...</td>\n",
       "    </tr>\n",
       "    <tr>\n",
       "      <th>4</th>\n",
       "      <td>The Four Loves de Clive Staples Lewis</td>\n",
       "      <td>four love clive stapl lewi religion lewi work ...</td>\n",
       "    </tr>\n",
       "    <tr>\n",
       "      <th>...</th>\n",
       "      <td>...</td>\n",
       "      <td>...</td>\n",
       "    </tr>\n",
       "    <tr>\n",
       "      <th>6274</th>\n",
       "      <td>Journey to the East de Hermann Hesse</td>\n",
       "      <td>journey east hermann hess adventur book tell t...</td>\n",
       "    </tr>\n",
       "    <tr>\n",
       "      <th>6275</th>\n",
       "      <td>The Monk Who Sold His Ferrari: A Fable About F...</td>\n",
       "      <td>monk sold ferrari fabl fulfil dream &amp; reach de...</td>\n",
       "    </tr>\n",
       "    <tr>\n",
       "      <th>6276</th>\n",
       "      <td>I Am that de Sri Nisargadatta Maharaj; Sudhaka...</td>\n",
       "      <td>sri nisargadatta maharaj sudhakar dikshit psyc...</td>\n",
       "    </tr>\n",
       "    <tr>\n",
       "      <th>6277</th>\n",
       "      <td>The Berlin Phenomenology de Georg Wilhelm Frie...</td>\n",
       "      <td>berlin phenomenolog georg wilhelm friedrich he...</td>\n",
       "    </tr>\n",
       "    <tr>\n",
       "      <th>6278</th>\n",
       "      <td>'I'm Telling You Stories' de Helena Grice; Tim...</td>\n",
       "      <td>i'm tell stori helena grice tim wood literari ...</td>\n",
       "    </tr>\n",
       "  </tbody>\n",
       "</table>\n",
       "<p>6279 rows × 2 columns</p>\n",
       "</div>"
      ],
      "text/plain": [
       "                                           title_author  \\\n",
       "0                          Gilead de Marilynne Robinson   \n",
       "1      Spider's Web de Charles Osborne; Agatha Christie   \n",
       "2                  The One Tree de Stephen R. Donaldson   \n",
       "3                      Rage of angels de Sidney Sheldon   \n",
       "4                 The Four Loves de Clive Staples Lewis   \n",
       "...                                                 ...   \n",
       "6274               Journey to the East de Hermann Hesse   \n",
       "6275  The Monk Who Sold His Ferrari: A Fable About F...   \n",
       "6276  I Am that de Sri Nisargadatta Maharaj; Sudhaka...   \n",
       "6277  The Berlin Phenomenology de Georg Wilhelm Frie...   \n",
       "6278  'I'm Telling You Stories' de Helena Grice; Tim...   \n",
       "\n",
       "                                         text_stemmered  \n",
       "0     gilead marilynn robinson fiction novel reader ...  \n",
       "1     spider web charl osborn agatha christi mysteri...  \n",
       "2     one tree stephen r donaldson fiction volum two...  \n",
       "3     rage angel sidney sheldon fiction memor mesmer...  \n",
       "4     four love clive stapl lewi religion lewi work ...  \n",
       "...                                                 ...  \n",
       "6274  journey east hermann hess adventur book tell t...  \n",
       "6275  monk sold ferrari fabl fulfil dream & reach de...  \n",
       "6276  sri nisargadatta maharaj sudhakar dikshit psyc...  \n",
       "6277  berlin phenomenolog georg wilhelm friedrich he...  \n",
       "6278  i'm tell stori helena grice tim wood literari ...  \n",
       "\n",
       "[6279 rows x 2 columns]"
      ]
     },
     "execution_count": 28,
     "metadata": {},
     "output_type": "execute_result"
    }
   ],
   "source": [
    "#se crea dataframe con las columnas más importantes\n",
    "df_final = pd.DataFrame(df_no_dup_title_author['title_author'])\n",
    "df_final['text_stemmered'] = X_stemmered.values\n",
    "df_final"
   ]
  },
  {
   "cell_type": "code",
   "execution_count": 29,
   "metadata": {},
   "outputs": [],
   "source": [
    "#guardar X entrenado y df_final\n",
    "joblib.dump(X, 'X_entrenado.pkl')\n",
    "df_final.to_csv('df.csv', index=False)"
   ]
  }
 ],
 "metadata": {
  "kernelspec": {
   "display_name": "NLP",
   "language": "python",
   "name": "python3"
  },
  "language_info": {
   "codemirror_mode": {
    "name": "ipython",
    "version": 3
   },
   "file_extension": ".py",
   "mimetype": "text/x-python",
   "name": "python",
   "nbconvert_exporter": "python",
   "pygments_lexer": "ipython3",
   "version": "3.9.21"
  }
 },
 "nbformat": 4,
 "nbformat_minor": 2
}
